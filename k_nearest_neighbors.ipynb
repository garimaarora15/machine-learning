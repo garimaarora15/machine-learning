{
 "cells": [
  {
   "cell_type": "code",
   "execution_count": 8,
   "id": "5e40e569-8be0-4eac-ab21-dea040e5f8f1",
   "metadata": {},
   "outputs": [
    {
     "name": "stdin",
     "output_type": "stream",
     "text": [
      "Enter the data point to be classified:  6,8\n"
     ]
    },
    {
     "name": "stdout",
     "output_type": "stream",
     "text": [
      "   Mathematics  CS Result  Euclidean_Distance\n",
      "0            6   7   Pass            1.000000\n",
      "1            7   8   Pass            1.000000\n",
      "2            8   8   Pass            2.000000\n",
      "3            4   9   Fail            2.236068\n",
      "4            5   5   Fail            3.162278\n",
      "Predicted Result: Pass\n"
     ]
    }
   ],
   "source": [
    "import pandas as pd\n",
    "import numpy as np\n",
    "\n",
    "def KNN_predict(data, k=3):\n",
    "    numerical_columns = data.select_dtypes(include=['int', 'float']).columns\n",
    "    point = list(map(int, input('Enter the data point to be classified: ').split(',')))\n",
    "\n",
    "    def euclidean_distance(row, point):\n",
    "        return np.sqrt(np.sum((np.array(row) - np.array(point)) ** 2))\n",
    "\n",
    "    euclidean_dist = []\n",
    "    for row in data[numerical_columns].itertuples(index=False):\n",
    "        euclidean_dist.append(euclidean_distance(row, point))\n",
    "\n",
    "    data['Euclidean_Distance'] = euclidean_dist\n",
    "    sorted_data = data.sort_values(by='Euclidean_Distance').reset_index(drop=True)\n",
    "    selected_rows = sorted_data['Result'][:k].value_counts()\n",
    "    result = selected_rows.idxmax()  \n",
    "    return sorted_data, result\n",
    "\n",
    "data = pd.DataFrame({\n",
    "    \"Mathematics\": [4, 6, 7, 5, 8],\n",
    "    \"CS\": [9, 7, 8, 5, 8],\n",
    "    \"Result\": ['Fail', 'Pass', 'Pass', 'Fail', 'Pass']\n",
    "})\n",
    "\n",
    "sorted_data, result = KNN_predict(data)\n",
    "print(sorted_data)\n",
    "print(\"Predicted Result:\", result)"
   ]
  }
 ],
 "metadata": {
  "kernelspec": {
   "display_name": "Python 3 (ipykernel)",
   "language": "python",
   "name": "python3"
  },
  "language_info": {
   "codemirror_mode": {
    "name": "ipython",
    "version": 3
   },
   "file_extension": ".py",
   "mimetype": "text/x-python",
   "name": "python",
   "nbconvert_exporter": "python",
   "pygments_lexer": "ipython3",
   "version": "3.10.4"
  }
 },
 "nbformat": 4,
 "nbformat_minor": 5
}
