{
 "cells": [
  {
   "cell_type": "code",
   "execution_count": 1,
   "id": "0b709e83-4808-449a-9b85-919ab1121224",
   "metadata": {},
   "outputs": [],
   "source": [
    "import numpy as np\n",
    "import matplotlib.pyplot as plt"
   ]
  },
  {
   "cell_type": "code",
   "execution_count": 6,
   "id": "20d73197-8219-4b27-941a-ad19ab18c122",
   "metadata": {},
   "outputs": [
    {
     "data": {
      "image/png": "[encoded data removed]",
      "text/plain": [
       "<Figure size 432x288 with 1 Axes>"
      ]
     },
     "metadata": {
      "needs_background": "light"
     },
     "output_type": "display_data"
    },
    {
     "name": "stdout",
     "output_type": "stream",
     "text": [
      "F(x)={\n",
      "0.1111 for 22.0 <= x < 25.8\n",
      "0.0556 for 25.8 <= x < 29.6\n",
      "0.1667 for 29.6 <= x < 33.4\n",
      "0.1111 for 33.4 <= x < 37.2\n",
      "0.1111 for 37.2 <= x < 41.0\n",
      "0.0556 for 41.0 <= x < 44.8\n",
      "0.1111 for 44.8 <= x < 48.599999999999994\n",
      "0.1111 for 48.599999999999994 <= x < 52.4\n",
      "0.0556 for 52.4 <= x < 56.199999999999996\n",
      "0.1111 for 56.199999999999996 <= x < 60.0\n",
      "}\n",
      "Density at point 21.26: 0\n"
     ]
    }
   ],
   "source": [
    "def plot_histogram(data, point):\n",
    "    hist, bin_edges = np.histogram(data, bins=10, density=True)\n",
    "    plt.hist(data, bins=5, density=True, alpha=0.6, color='b', edgecolor='#000000')\n",
    "    plt.xlabel('Value')\n",
    "    plt.ylabel('Probability Density')\n",
    "    plt.title('Histogram')\n",
    "    plt.show()\n",
    "\n",
    "    bin_centers = (bin_edges[1:] + bin_edges[:-1]) / 2\n",
    "    pdf_values = hist * np.diff(bin_edges)\n",
    "\n",
    "    print('F(x)={')\n",
    "    for i in range(len(bin_edges) - 1):\n",
    "        print(f'{pdf_values[i]:.4f} for {bin_edges[i]} <= x < {bin_edges[i+1]}')\n",
    "    print('}')\n",
    "\n",
    "    # Calculate density at the given point\n",
    "    density = 0\n",
    "    for i in range(len(bin_edges) - 1):\n",
    "        if bin_edges[i] <= point < bin_edges[i+1]:\n",
    "            density = pdf_values[i]\n",
    "            break\n",
    "\n",
    "    print(f\"Density at point {point}: {density}\")\n",
    "    \n",
    "data = [22, 25, 28, 30, 32,33,35,35,38,40,42,45,47,50,52,55,58,60]\n",
    "point = 21.26  # Example point\n",
    "plot_histogram(data, point)"
   ]
  }
 ],
 "metadata": {
  "kernelspec": {
   "display_name": "Python 3 (ipykernel)",
   "language": "python",
   "name": "python3"
  },
  "language_info": {
   "codemirror_mode": {
    "name": "ipython",
    "version": 3
   },
   "file_extension": ".py",
   "mimetype": "text/x-python",
   "name": "python",
   "nbconvert_exporter": "python",
   "pygments_lexer": "ipython3",
   "version": "3.10.4"
  }
 },
 "nbformat": 4,
 "nbformat_minor": 5
}
