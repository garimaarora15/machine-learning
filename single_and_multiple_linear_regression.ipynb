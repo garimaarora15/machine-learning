{
 "cells": [
  {
   "cell_type": "code",
   "execution_count": 1,
   "id": "e58ded93-7d1f-44a6-9664-6e7e34c7211a",
   "metadata": {},
   "outputs": [
    {
     "name": "stdin",
     "output_type": "stream",
     "text": [
      "Enter the number of independent variables:  2\n",
      "Enter the values of x1 separated by commas:  1.6, 22.0, 33.0, 15.5, 43.0, 40.0\n",
      "Enter the values of x2 separated by commas:  851, 1058, 1357, 816, 1201, 1115\n",
      "Enter the values of y separated by commas:  193, 172, 113, 230, 91, 125\n"
     ]
    },
    {
     "data": {
      "text/plain": [
       "[[0, 0, 0], [0, 0, 0], [0, 0, 0]]"
      ]
     },
     "execution_count": 1,
     "metadata": {},
     "output_type": "execute_result"
    }
   ],
   "source": [
    "import numpy as np\n",
    "\n",
    "independent_vars = int(input('Enter the number of independent variables: '))\n",
    "x_values = []\n",
    "for i in range(0, independent_vars):\n",
    "    x_values.append(list(map(float, input(f'Enter the values of x{i + 1} separated by commas: ').split(','))))\n",
    "y = list(map(float, input('Enter the values of y separated by commas: ').split(',')))\n",
    "\n",
    "A = [[0 for j in range(independent_vars + 1)] for i in range(independent_vars + 1)]\n",
    "A"
   ]
  },
  {
   "cell_type": "code",
   "execution_count": 2,
   "id": "ac5ef4ca-96f6-45fd-8f06-3886386e3d30",
   "metadata": {},
   "outputs": [
    {
     "data": {
      "text/plain": [
       "array([ 3.50994271e+02, -1.27199445e+00, -1.53904233e-01])"
      ]
     },
     "execution_count": 2,
     "metadata": {},
     "output_type": "execute_result"
    }
   ],
   "source": [
    "for i in range(independent_vars + 1):\n",
    "    for j in range(independent_vars + 1):\n",
    "        if i == 0 and j == 0:\n",
    "            A[i][j] = len(y)\n",
    "        elif i == 0:\n",
    "            A[i][j] = sum(x_values[j-1])\n",
    "        elif j == 0:\n",
    "            A[i][j] = sum(x_values[i-1])\n",
    "        else:\n",
    "            A[i][j] = np.dot(x_values[i-1], x_values[j-1])\n",
    "\n",
    "B = np.array([sum(y) if i == 0 else np.dot(x_values[i-1], y) for i in range(independent_vars+1)])\n",
    "X = np.linalg.inv(A)@B.T\n",
    "X"
   ]
  },
  {
   "cell_type": "code",
   "execution_count": 3,
   "id": "2219e4e3-0048-429f-8c2f-78fb3ef5e27d",
   "metadata": {},
   "outputs": [
    {
     "name": "stdin",
     "output_type": "stream",
     "text": [
      "Enter the number of independent variables: 2\n",
      "Enter the values of x1 separated by commas:  1.6, 22.0, 33.0, 15.5, 43.0, 40.0\n",
      "Enter the values of x2 separated by commas:  851, 1058, 1357, 816, 1201, 1115\n",
      "Enter the values of y separated by commas:  193, 172, 113, 230, 91, 125\n"
     ]
    }
   ],
   "source": [
    "import numpy as np\n",
    "\n",
    "independent_vars = int(input('Enter the number of independent variables:'))\n",
    "x_values = []\n",
    "for i in range(0, independent_vars):\n",
    "    x_values.append(list(map(float, input(f'Enter the values of x{i+1} separated by commas: ').split(','))))\n",
    "y = list(map(float, input('Enter the values of y separated by commas: ').split(',')))"
   ]
  },
  {
   "cell_type": "code",
   "execution_count": 4,
   "id": "aa186d00-4cb9-472f-96ec-2881699dd4af",
   "metadata": {},
   "outputs": [
    {
     "data": {
      "text/plain": [
       "[[0, 0, 0], [0, 0, 0], [0, 0, 0]]"
      ]
     },
     "execution_count": 4,
     "metadata": {},
     "output_type": "execute_result"
    }
   ],
   "source": [
    "A = [[0 for j in range(independent_vars + 1)] for i in range(independent_vars + 1)]\n",
    "A"
   ]
  },
  {
   "cell_type": "code",
   "execution_count": 9,
   "id": "b8e477d8-589e-4790-8696-2aa0ed77641d",
   "metadata": {},
   "outputs": [
    {
     "data": {
      "text/plain": [
       "array([ 3.50994271e+02, -1.27199445e+00, -1.53904233e-01])"
      ]
     },
     "execution_count": 9,
     "metadata": {},
     "output_type": "execute_result"
    }
   ],
   "source": [
    "for i in range(independent_vars + 1):\n",
    "    for j in range(independent_vars + 1):\n",
    "        if i == 0 and j == 0:\n",
    "            A[i][j] = len(y)\n",
    "        elif i == 0:\n",
    "            A[i][j] = sum(x_values[j - 1])\n",
    "        elif j == 0:\n",
    "            A[i][j] = sum(x_values[i - 1])\n",
    "        else:\n",
    "            A[i][j] = np.dot(x_values[i - 1], x_values[j - 1])\n",
    "            \n",
    "B = np.array([sum(y) if i == 0 else np.dot(x_values[i-1], y) for i in range(independent_vars+1)])\n",
    "X = np.linalg.inv(A)@B.T\n",
    "X"
   ]
  }
 ],
 "metadata": {
  "kernelspec": {
   "display_name": "Python 3 (ipykernel)",
   "language": "python",
   "name": "python3"
  },
  "language_info": {
   "codemirror_mode": {
    "name": "ipython",
    "version": 3
   },
   "file_extension": ".py",
   "mimetype": "text/x-python",
   "name": "python",
   "nbconvert_exporter": "python",
   "pygments_lexer": "ipython3",
   "version": "3.10.4"
  }
 },
 "nbformat": 4,
 "nbformat_minor": 5
}
