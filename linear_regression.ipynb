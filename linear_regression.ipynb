{
 "cells": [
  {
   "cell_type": "code",
   "execution_count": 26,
   "id": "f384013a-53a1-416e-ae2d-f82c539f287e",
   "metadata": {
    "tags": []
   },
   "outputs": [
    {
     "name": "stdin",
     "output_type": "stream",
     "text": [
      "Enter the values of x separated by commas:  14, 16, 18, 20, 24, 30, 32\n",
      "Enter the values of y separated by commas:  52, 62, 65, 70, 76, 80, 78\n"
     ]
    },
    {
     "name": "stdout",
     "output_type": "stream",
     "text": [
      "[[39.66666667]\n",
      " [ 1.33333333]]\n",
      "The simple linear regression equation is: y =   39.667 +  1.333x\n"
     ]
    }
   ],
   "source": [
    "import numpy as np\n",
    "\n",
    "x = list(map(int, input('Enter the values of x separated by commas: ').split(',')))\n",
    "y = list(map(int, input('Enter the values of y separated by commas: ').split(',')))\n",
    "\n",
    "A = np.array([[len(x), sum(x)],\n",
    "              [sum(x), sum(np.square(x))]])\n",
    "B = np.array([[sum(y)], [np.dot(x, y)]])\n",
    "X = np.linalg.inv(A)@B\n",
    "print(X)\n",
    "print(f'The simple linear regression equation is: y =  {X[0, 0]: .3f} + {X[1, 0]: .3f}x')"
   ]
  },
  {
   "cell_type": "code",
   "execution_count": 29,
   "id": "4e53903a-49c1-454d-8292-a5af90450b9d",
   "metadata": {},
   "outputs": [
    {
     "name": "stdin",
     "output_type": "stream",
     "text": [
      "Enter the values of x separated by commas:  1, 2, 3\n",
      "Enter the values of y separated by commas:  3, 1, 2\n"
     ]
    },
    {
     "name": "stdout",
     "output_type": "stream",
     "text": [
      "[[1]\n",
      " [2]\n",
      " [3]]\n",
      "y = -0.50x +  3.00\n"
     ]
    }
   ],
   "source": [
    "from sklearn.linear_model import LinearRegression\n",
    "\n",
    "x = np.array(list(map(int, input('Enter the values of x separated by commas: ').split(',')))).reshape(-1, 1)\n",
    "y = list(map(int, input('Enter the values of y separated by commas: ').split(',')))\n",
    "print(x)\n",
    "model = LinearRegression().fit(x, y)\n",
    "slope = model.coef_[0]\n",
    "intercept = model.intercept_\n",
    "\n",
    "equation = f\"y = {slope: .2f}x + {intercept: .2f}\"\n",
    "print(equation)"
   ]
  },
  {
   "cell_type": "code",
   "execution_count": 1,
   "id": "93bcf645-77f0-4faf-9f39-e5991dd6b581",
   "metadata": {},
   "outputs": [
    {
     "name": "stdin",
     "output_type": "stream",
     "text": [
      "Enter the values of x separated by commas:  14, 16, 18, 20, 24, 30, 32\n",
      "Enter the values of y separated by commas:  52, 62, 65, 70, 76, 80, 78\n"
     ]
    },
    {
     "data": {
      "text/plain": [
       "array([39.66666667,  1.33333333])"
      ]
     },
     "execution_count": 1,
     "metadata": {},
     "output_type": "execute_result"
    }
   ],
   "source": [
    "import numpy as np\n",
    "\n",
    "x = list(map(int, input('Enter the values of x separated by commas: ').split(',')))\n",
    "y = list(map(int, input('Enter the values of y separated by commas: ').split(',')))\n",
    "\n",
    "A = np.array([[len(x), sum(x)],\n",
    "             [sum(x), sum(np.square(x))]])\n",
    "B = np.array([sum(y), np.dot(x, y)])\n",
    "X = np.linalg.inv(A)@B.T\n",
    "X"
   ]
  },
  {
   "cell_type": "code",
   "execution_count": 2,
   "id": "676a7d7a-b72c-4d50-b025-7e195a018222",
   "metadata": {},
   "outputs": [
    {
     "name": "stdout",
     "output_type": "stream",
     "text": [
      "The simple linear regression model is: y = 39.667 + 1.333x\n"
     ]
    }
   ],
   "source": [
    "print(f'The simple linear regression model is: y = {X[0]:.3f} + {X[1]:.3f}x')"
   ]
  },
  {
   "cell_type": "code",
   "execution_count": 3,
   "id": "081fea21-7bb5-48cb-8541-f66968e9ae49",
   "metadata": {},
   "outputs": [],
   "source": [
    "from sklearn.linear_model import LinearRegression"
   ]
  },
  {
   "cell_type": "code",
   "execution_count": 5,
   "id": "be46f37d-077d-4bc6-9b76-03bce43dd06c",
   "metadata": {},
   "outputs": [
    {
     "name": "stdin",
     "output_type": "stream",
     "text": [
      "Enter the values of x separated by commas:  14, 16, 18, 20, 24, 30, 32\n",
      "Enter the values of y separated by commas:  52, 62, 65, 70, 76, 80, 78\n"
     ]
    },
    {
     "name": "stdout",
     "output_type": "stream",
     "text": [
      "y =  39.667 +  1.333x\n"
     ]
    }
   ],
   "source": [
    "x = np.array(list(map(int, input('Enter the values of x separated by commas: ').split(',')))).reshape(-1, 1)\n",
    "y = list(map(int, input('Enter the values of y separated by commas: ').split(',')))\n",
    "\n",
    "model = LinearRegression().fit(x, y)\n",
    "slope = model.coef_[0]\n",
    "intercept = model.intercept_\n",
    "\n",
    "print(f\"y = {intercept: .3f} + {slope: .3f}x\")"
   ]
  }
 ],
 "metadata": {
  "kernelspec": {
   "display_name": "Python 3 (ipykernel)",
   "language": "python",
   "name": "python3"
  },
  "language_info": {
   "codemirror_mode": {
    "name": "ipython",
    "version": 3
   },
   "file_extension": ".py",
   "mimetype": "text/x-python",
   "name": "python",
   "nbconvert_exporter": "python",
   "pygments_lexer": "ipython3",
   "version": "3.10.4"
  }
 },
 "nbformat": 4,
 "nbformat_minor": 5
}
