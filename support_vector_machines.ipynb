{
 "cells": [
  {
   "cell_type": "code",
   "execution_count": 7,
   "id": "99a0ae55-c4ed-4933-8c70-a7c1ed9a84d9",
   "metadata": {},
   "outputs": [
    {
     "name": "stdin",
     "output_type": "stream",
     "text": [
      "Enter the number of support vectors:  3\n",
      "Enter the elements of support vector 1 1,0\n",
      "Enter the elements of support vector 2 3,1\n",
      "Enter the elements of support vector 3 3,-1\n"
     ]
    },
    {
     "data": {
      "text/plain": [
       "[[0, 0, 0], [0, 0, 0], [0, 0, 0]]"
      ]
     },
     "execution_count": 7,
     "metadata": {},
     "output_type": "execute_result"
    }
   ],
   "source": [
    "import numpy as np\n",
    "\n",
    "support_vectors = []\n",
    "n = int(input('Enter the number of support vectors: '))\n",
    "for i in range(n):\n",
    "    support_vectors.append(list(map(int, input(f'Enter the elements of support vector {i+1}').split(','))))\n",
    "for support_vector in support_vectors:\n",
    "    support_vector.append(1)\n",
    "A = [[0 for j in range(n)] for i in range(n)]\n",
    "A"
   ]
  },
  {
   "cell_type": "code",
   "execution_count": 12,
   "id": "e555a0e3-45d3-4a71-b28d-e20da56effa6",
   "metadata": {},
   "outputs": [],
   "source": [
    "for i in range(n):\n",
    "    for j in range(n):\n",
    "        if i != j:\n",
    "            A[i][j] = np.dot(support_vectors[i], support_vectors[j])\n",
    "        else:\n",
    "            A[i][j] = np.dot(support_vectors[i], support_vectors[i])"
   ]
  },
  {
   "cell_type": "code",
   "execution_count": 13,
   "id": "b9265d87-ed8c-4344-8822-2b9e9bcb9792",
   "metadata": {},
   "outputs": [
    {
     "data": {
      "text/plain": [
       "[[2, 4, 4], [4, 11, 9], [4, 9, 11]]"
      ]
     },
     "execution_count": 13,
     "metadata": {},
     "output_type": "execute_result"
    }
   ],
   "source": [
    "A"
   ]
  },
  {
   "cell_type": "code",
   "execution_count": 14,
   "id": "701cec7f-f688-4f47-bedd-4b95d64c0e6f",
   "metadata": {},
   "outputs": [
    {
     "name": "stdin",
     "output_type": "stream",
     "text": [
      "Enter the class of the support vector 1: -1\n",
      "Enter the class of the support vector 2: 1\n",
      "Enter the class of the support vector 3: 1\n"
     ]
    },
    {
     "data": {
      "text/plain": [
       "[[-1], [1], [1]]"
      ]
     },
     "execution_count": 14,
     "metadata": {},
     "output_type": "execute_result"
    }
   ],
   "source": [
    "B = []\n",
    "for i in range(n):\n",
    "    B.append(list(map(int, input(f'Enter the class of the support vector {i+1}:').split(','))))\n",
    "B"
   ]
  },
  {
   "cell_type": "code",
   "execution_count": 15,
   "id": "a2c0f522-b1c0-4c1b-8f43-0812054ef97b",
   "metadata": {},
   "outputs": [],
   "source": [
    "X = np.linalg.inv(A)@B"
   ]
  },
  {
   "cell_type": "code",
   "execution_count": 16,
   "id": "dd0defaf-51cf-4810-9104-4411e5717c2c",
   "metadata": {},
   "outputs": [
    {
     "data": {
      "text/plain": [
       "array([[-3.5 ],\n",
       "       [ 0.75],\n",
       "       [ 0.75]])"
      ]
     },
     "execution_count": 16,
     "metadata": {},
     "output_type": "execute_result"
    }
   ],
   "source": [
    "X"
   ]
  },
  {
   "cell_type": "code",
   "execution_count": 21,
   "id": "77849b23-f2fc-4ef8-b519-c19a7c4afa8f",
   "metadata": {},
   "outputs": [],
   "source": [
    "w = X[0]*support_vectors[0] + X[1]*support_vectors[1] + X[2]*support_vectors[2]"
   ]
  },
  {
   "cell_type": "code",
   "execution_count": 22,
   "id": "6fb07f2c-1f6c-4596-a4fd-488b56b8290b",
   "metadata": {},
   "outputs": [
    {
     "data": {
      "text/plain": [
       "array([ 1.,  0., -2.])"
      ]
     },
     "execution_count": 22,
     "metadata": {},
     "output_type": "execute_result"
    }
   ],
   "source": [
    "w"
   ]
  },
  {
   "cell_type": "code",
   "execution_count": 29,
   "id": "858b4d08-c964-479a-ba39-77401bf8dd11",
   "metadata": {},
   "outputs": [
    {
     "name": "stdout",
     "output_type": "stream",
     "text": [
      "1.0 x1 + 0.0 x2  -2.0\n"
     ]
    }
   ],
   "source": [
    "print(f'{w[0]} x1 + {w[1]} x2  {w[2]}')"
   ]
  }
 ],
 "metadata": {
  "kernelspec": {
   "display_name": "Python 3 (ipykernel)",
   "language": "python",
   "name": "python3"
  },
  "language_info": {
   "codemirror_mode": {
    "name": "ipython",
    "version": 3
   },
   "file_extension": ".py",
   "mimetype": "text/x-python",
   "name": "python",
   "nbconvert_exporter": "python",
   "pygments_lexer": "ipython3",
   "version": "3.10.4"
  }
 },
 "nbformat": 4,
 "nbformat_minor": 5
}
